{
  "nbformat": 4,
  "nbformat_minor": 0,
  "metadata": {
    "colab": {
      "provenance": [],
      "authorship_tag": "ABX9TyMrDDkXkSgoHVFFg9uUlBGk",
      "include_colab_link": true
    },
    "kernelspec": {
      "name": "python3",
      "display_name": "Python 3"
    },
    "language_info": {
      "name": "python"
    }
  },
  "cells": [
    {
      "cell_type": "markdown",
      "metadata": {
        "id": "view-in-github",
        "colab_type": "text"
      },
      "source": [
        "<a href=\"https://colab.research.google.com/github/tarangga/Coursera/blob/main/Deeplearning_ai_Finetuning_Large_Language_Models.ipynb\" target=\"_parent\"><img src=\"https://colab.research.google.com/assets/colab-badge.svg\" alt=\"Open In Colab\"/></a>"
      ]
    },
    {
      "cell_type": "markdown",
      "source": [
        "# Import & Load Data"
      ],
      "metadata": {
        "id": "cymgiVelZkXC"
      }
    },
    {
      "cell_type": "code",
      "source": [
        "import pandas as pd\n",
        "import seaborn as sns\n",
        "from glob import glob"
      ],
      "metadata": {
        "id": "GDW0iEvjXBqy"
      },
      "execution_count": 28,
      "outputs": []
    },
    {
      "cell_type": "code",
      "source": [
        "df = []\n",
        "for p in glob('*.json'):\n",
        "  print(p)\n",
        "  temp = pd.read_json(p).T\n",
        "  temp['source'] = p\n",
        "  df.append(temp)\n",
        "\n",
        "df = pd.concat(df)\n",
        "df"
      ],
      "metadata": {
        "colab": {
          "base_uri": "https://localhost:8080/",
          "height": 1000
        },
        "id": "9RjbFPsWYhY-",
        "outputId": "63b0e1ae-8394-481c-d350-9ee3ed081457"
      },
      "execution_count": 39,
      "outputs": [
        {
          "output_type": "stream",
          "name": "stdout",
          "text": [
            "recipes_raw_nosource_epi.json\n",
            "recipes_raw_nosource_ar.json\n"
          ]
        },
        {
          "output_type": "execute_result",
          "data": {
            "text/plain": [
              "                                                                       ingredients  \\\n",
              "05zEpbSqcs9E0rcnCJWyZ9OgdH0MLby  [12 egg whites, 12 egg yolks, 1 1/2 cups sugar...   \n",
              "mF5SZmoqxF4WtIlhLRvzuKk.z6s7P2S  [18 fresh chestnuts, 2 1/2 pounds veal stew me...   \n",
              "oQV5D7cVbCFwmrDs3pBUv2y.AG0WV26  [2 tablespoons unsalted butter, softened, 4 or...   \n",
              "Z9seBJWaB5NkSp4DQHDnCAUBTwov/1u  [3/4 pound Stilton, crumbled (about 3 cups) an...   \n",
              "bB3GxoAplVZeoX3fzWNWyeECtQFxw6G  [2 cups (about 9 1/2 ounces) whole almonds, to...   \n",
              "...                                                                            ...   \n",
              "gehEOcDPtU3SmNSXrwWwWD4ulPpUdMO  [2 teaspoons olive oil ADVERTISEMENT, 1/4 cup ...   \n",
              "VRAsyF.1xMBYqAVKX1biyIORH6N6qzy  [2 cups light cream ADVERTISEMENT, 1/4 teaspoo...   \n",
              "Lf8/u.0k2029QMSQFrHS4gRsvKOQFUG  [3 tablespoons bacon grease ADVERTISEMENT, 2 c...   \n",
              "ay.AqX/9ysBtWHcnHoDeGAyJ5Orla8e  [4 egg yolks ADVERTISEMENT, 1 tablespoon white...   \n",
              "2Q3Zpfgt/PUwn1YABjJ5A9T3ZW8xwVa  [1/4 cup canola oil ADVERTISEMENT, 3 cups quic...   \n",
              "\n",
              "                                                    picture_link  \\\n",
              "05zEpbSqcs9E0rcnCJWyZ9OgdH0MLby                             None   \n",
              "mF5SZmoqxF4WtIlhLRvzuKk.z6s7P2S                             None   \n",
              "oQV5D7cVbCFwmrDs3pBUv2y.AG0WV26  3xjktRst3I5lDZ2Z5kTOtqQyzZFFN9u   \n",
              "Z9seBJWaB5NkSp4DQHDnCAUBTwov/1u                             None   \n",
              "bB3GxoAplVZeoX3fzWNWyeECtQFxw6G                             None   \n",
              "...                                                          ...   \n",
              "gehEOcDPtU3SmNSXrwWwWD4ulPpUdMO  qE58a7Z1Au0GXvPO188iHZZVqna9hLa   \n",
              "VRAsyF.1xMBYqAVKX1biyIORH6N6qzy  qE58a7Z1Au0GXvPO188iHZZVqna9hLa   \n",
              "Lf8/u.0k2029QMSQFrHS4gRsvKOQFUG  qE58a7Z1Au0GXvPO188iHZZVqna9hLa   \n",
              "ay.AqX/9ysBtWHcnHoDeGAyJ5Orla8e  qE58a7Z1Au0GXvPO188iHZZVqna9hLa   \n",
              "2Q3Zpfgt/PUwn1YABjJ5A9T3ZW8xwVa  qE58a7Z1Au0GXvPO188iHZZVqna9hLa   \n",
              "\n",
              "                                                                      instructions  \\\n",
              "05zEpbSqcs9E0rcnCJWyZ9OgdH0MLby  Beat the egg whites until stiff, gradually add...   \n",
              "mF5SZmoqxF4WtIlhLRvzuKk.z6s7P2S  Preheat oven to 400°F. Using small sharp knife...   \n",
              "oQV5D7cVbCFwmrDs3pBUv2y.AG0WV26  Preheat the oven to 350°F. Spread the softened...   \n",
              "Z9seBJWaB5NkSp4DQHDnCAUBTwov/1u  In a food processor blend the Stilton, the cre...   \n",
              "bB3GxoAplVZeoX3fzWNWyeECtQFxw6G  Position rack in center of oven and preheat to...   \n",
              "...                                                                            ...   \n",
              "gehEOcDPtU3SmNSXrwWwWD4ulPpUdMO  Heat oil in a large pot over medium heat. Add ...   \n",
              "VRAsyF.1xMBYqAVKX1biyIORH6N6qzy  Heat cream and coconut extract in a skillet or...   \n",
              "Lf8/u.0k2029QMSQFrHS4gRsvKOQFUG  Heat bacon grease in a skillet over medium-hig...   \n",
              "ay.AqX/9ysBtWHcnHoDeGAyJ5Orla8e  Preheat oven to 350 degrees F (175 degrees C)....   \n",
              "2Q3Zpfgt/PUwn1YABjJ5A9T3ZW8xwVa  Heat 1/4 cup canola oil in large skillet over ...   \n",
              "\n",
              "                                                                             title  \\\n",
              "05zEpbSqcs9E0rcnCJWyZ9OgdH0MLby                                  Christmas Eggnog    \n",
              "mF5SZmoqxF4WtIlhLRvzuKk.z6s7P2S                  Veal, Carrot and Chestnut Ragoût    \n",
              "oQV5D7cVbCFwmrDs3pBUv2y.AG0WV26  Caramelized Bread Pudding with Chocolate and C...   \n",
              "Z9seBJWaB5NkSp4DQHDnCAUBTwov/1u      Sherried Stilton and Green Peppercorn Spread    \n",
              "bB3GxoAplVZeoX3fzWNWyeECtQFxw6G                        Almond-Chocolate Macaroons    \n",
              "...                                                                            ...   \n",
              "gehEOcDPtU3SmNSXrwWwWD4ulPpUdMO                            Thai-Indian Veggie Soup   \n",
              "VRAsyF.1xMBYqAVKX1biyIORH6N6qzy             Coconut Milk-Free Panang Curry Chicken   \n",
              "Lf8/u.0k2029QMSQFrHS4gRsvKOQFUG                                  Cooked Cold Salad   \n",
              "ay.AqX/9ysBtWHcnHoDeGAyJ5Orla8e                           Easy Eggnog Creme Brulee   \n",
              "2Q3Zpfgt/PUwn1YABjJ5A9T3ZW8xwVa                       Super Power Stovetop Granola   \n",
              "\n",
              "                                                        source  \n",
              "05zEpbSqcs9E0rcnCJWyZ9OgdH0MLby  recipes_raw_nosource_epi.json  \n",
              "mF5SZmoqxF4WtIlhLRvzuKk.z6s7P2S  recipes_raw_nosource_epi.json  \n",
              "oQV5D7cVbCFwmrDs3pBUv2y.AG0WV26  recipes_raw_nosource_epi.json  \n",
              "Z9seBJWaB5NkSp4DQHDnCAUBTwov/1u  recipes_raw_nosource_epi.json  \n",
              "bB3GxoAplVZeoX3fzWNWyeECtQFxw6G  recipes_raw_nosource_epi.json  \n",
              "...                                                        ...  \n",
              "gehEOcDPtU3SmNSXrwWwWD4ulPpUdMO   recipes_raw_nosource_ar.json  \n",
              "VRAsyF.1xMBYqAVKX1biyIORH6N6qzy   recipes_raw_nosource_ar.json  \n",
              "Lf8/u.0k2029QMSQFrHS4gRsvKOQFUG   recipes_raw_nosource_ar.json  \n",
              "ay.AqX/9ysBtWHcnHoDeGAyJ5Orla8e   recipes_raw_nosource_ar.json  \n",
              "2Q3Zpfgt/PUwn1YABjJ5A9T3ZW8xwVa   recipes_raw_nosource_ar.json  \n",
              "\n",
              "[65125 rows x 5 columns]"
            ],
            "text/html": [
              "\n",
              "  <div id=\"df-71c080b8-8877-4c02-91e2-5fe1d2525518\" class=\"colab-df-container\">\n",
              "    <div>\n",
              "<style scoped>\n",
              "    .dataframe tbody tr th:only-of-type {\n",
              "        vertical-align: middle;\n",
              "    }\n",
              "\n",
              "    .dataframe tbody tr th {\n",
              "        vertical-align: top;\n",
              "    }\n",
              "\n",
              "    .dataframe thead th {\n",
              "        text-align: right;\n",
              "    }\n",
              "</style>\n",
              "<table border=\"1\" class=\"dataframe\">\n",
              "  <thead>\n",
              "    <tr style=\"text-align: right;\">\n",
              "      <th></th>\n",
              "      <th>ingredients</th>\n",
              "      <th>picture_link</th>\n",
              "      <th>instructions</th>\n",
              "      <th>title</th>\n",
              "      <th>source</th>\n",
              "    </tr>\n",
              "  </thead>\n",
              "  <tbody>\n",
              "    <tr>\n",
              "      <th>05zEpbSqcs9E0rcnCJWyZ9OgdH0MLby</th>\n",
              "      <td>[12 egg whites, 12 egg yolks, 1 1/2 cups sugar...</td>\n",
              "      <td>None</td>\n",
              "      <td>Beat the egg whites until stiff, gradually add...</td>\n",
              "      <td>Christmas Eggnog</td>\n",
              "      <td>recipes_raw_nosource_epi.json</td>\n",
              "    </tr>\n",
              "    <tr>\n",
              "      <th>mF5SZmoqxF4WtIlhLRvzuKk.z6s7P2S</th>\n",
              "      <td>[18 fresh chestnuts, 2 1/2 pounds veal stew me...</td>\n",
              "      <td>None</td>\n",
              "      <td>Preheat oven to 400°F. Using small sharp knife...</td>\n",
              "      <td>Veal, Carrot and Chestnut Ragoût</td>\n",
              "      <td>recipes_raw_nosource_epi.json</td>\n",
              "    </tr>\n",
              "    <tr>\n",
              "      <th>oQV5D7cVbCFwmrDs3pBUv2y.AG0WV26</th>\n",
              "      <td>[2 tablespoons unsalted butter, softened, 4 or...</td>\n",
              "      <td>3xjktRst3I5lDZ2Z5kTOtqQyzZFFN9u</td>\n",
              "      <td>Preheat the oven to 350°F. Spread the softened...</td>\n",
              "      <td>Caramelized Bread Pudding with Chocolate and C...</td>\n",
              "      <td>recipes_raw_nosource_epi.json</td>\n",
              "    </tr>\n",
              "    <tr>\n",
              "      <th>Z9seBJWaB5NkSp4DQHDnCAUBTwov/1u</th>\n",
              "      <td>[3/4 pound Stilton, crumbled (about 3 cups) an...</td>\n",
              "      <td>None</td>\n",
              "      <td>In a food processor blend the Stilton, the cre...</td>\n",
              "      <td>Sherried Stilton and Green Peppercorn Spread</td>\n",
              "      <td>recipes_raw_nosource_epi.json</td>\n",
              "    </tr>\n",
              "    <tr>\n",
              "      <th>bB3GxoAplVZeoX3fzWNWyeECtQFxw6G</th>\n",
              "      <td>[2 cups (about 9 1/2 ounces) whole almonds, to...</td>\n",
              "      <td>None</td>\n",
              "      <td>Position rack in center of oven and preheat to...</td>\n",
              "      <td>Almond-Chocolate Macaroons</td>\n",
              "      <td>recipes_raw_nosource_epi.json</td>\n",
              "    </tr>\n",
              "    <tr>\n",
              "      <th>...</th>\n",
              "      <td>...</td>\n",
              "      <td>...</td>\n",
              "      <td>...</td>\n",
              "      <td>...</td>\n",
              "      <td>...</td>\n",
              "    </tr>\n",
              "    <tr>\n",
              "      <th>gehEOcDPtU3SmNSXrwWwWD4ulPpUdMO</th>\n",
              "      <td>[2 teaspoons olive oil ADVERTISEMENT, 1/4 cup ...</td>\n",
              "      <td>qE58a7Z1Au0GXvPO188iHZZVqna9hLa</td>\n",
              "      <td>Heat oil in a large pot over medium heat. Add ...</td>\n",
              "      <td>Thai-Indian Veggie Soup</td>\n",
              "      <td>recipes_raw_nosource_ar.json</td>\n",
              "    </tr>\n",
              "    <tr>\n",
              "      <th>VRAsyF.1xMBYqAVKX1biyIORH6N6qzy</th>\n",
              "      <td>[2 cups light cream ADVERTISEMENT, 1/4 teaspoo...</td>\n",
              "      <td>qE58a7Z1Au0GXvPO188iHZZVqna9hLa</td>\n",
              "      <td>Heat cream and coconut extract in a skillet or...</td>\n",
              "      <td>Coconut Milk-Free Panang Curry Chicken</td>\n",
              "      <td>recipes_raw_nosource_ar.json</td>\n",
              "    </tr>\n",
              "    <tr>\n",
              "      <th>Lf8/u.0k2029QMSQFrHS4gRsvKOQFUG</th>\n",
              "      <td>[3 tablespoons bacon grease ADVERTISEMENT, 2 c...</td>\n",
              "      <td>qE58a7Z1Au0GXvPO188iHZZVqna9hLa</td>\n",
              "      <td>Heat bacon grease in a skillet over medium-hig...</td>\n",
              "      <td>Cooked Cold Salad</td>\n",
              "      <td>recipes_raw_nosource_ar.json</td>\n",
              "    </tr>\n",
              "    <tr>\n",
              "      <th>ay.AqX/9ysBtWHcnHoDeGAyJ5Orla8e</th>\n",
              "      <td>[4 egg yolks ADVERTISEMENT, 1 tablespoon white...</td>\n",
              "      <td>qE58a7Z1Au0GXvPO188iHZZVqna9hLa</td>\n",
              "      <td>Preheat oven to 350 degrees F (175 degrees C)....</td>\n",
              "      <td>Easy Eggnog Creme Brulee</td>\n",
              "      <td>recipes_raw_nosource_ar.json</td>\n",
              "    </tr>\n",
              "    <tr>\n",
              "      <th>2Q3Zpfgt/PUwn1YABjJ5A9T3ZW8xwVa</th>\n",
              "      <td>[1/4 cup canola oil ADVERTISEMENT, 3 cups quic...</td>\n",
              "      <td>qE58a7Z1Au0GXvPO188iHZZVqna9hLa</td>\n",
              "      <td>Heat 1/4 cup canola oil in large skillet over ...</td>\n",
              "      <td>Super Power Stovetop Granola</td>\n",
              "      <td>recipes_raw_nosource_ar.json</td>\n",
              "    </tr>\n",
              "  </tbody>\n",
              "</table>\n",
              "<p>65125 rows × 5 columns</p>\n",
              "</div>\n",
              "    <div class=\"colab-df-buttons\">\n",
              "\n",
              "  <div class=\"colab-df-container\">\n",
              "    <button class=\"colab-df-convert\" onclick=\"convertToInteractive('df-71c080b8-8877-4c02-91e2-5fe1d2525518')\"\n",
              "            title=\"Convert this dataframe to an interactive table.\"\n",
              "            style=\"display:none;\">\n",
              "\n",
              "  <svg xmlns=\"http://www.w3.org/2000/svg\" height=\"24px\" viewBox=\"0 -960 960 960\">\n",
              "    <path d=\"M120-120v-720h720v720H120Zm60-500h600v-160H180v160Zm220 220h160v-160H400v160Zm0 220h160v-160H400v160ZM180-400h160v-160H180v160Zm440 0h160v-160H620v160ZM180-180h160v-160H180v160Zm440 0h160v-160H620v160Z\"/>\n",
              "  </svg>\n",
              "    </button>\n",
              "\n",
              "  <style>\n",
              "    .colab-df-container {\n",
              "      display:flex;\n",
              "      gap: 12px;\n",
              "    }\n",
              "\n",
              "    .colab-df-convert {\n",
              "      background-color: #E8F0FE;\n",
              "      border: none;\n",
              "      border-radius: 50%;\n",
              "      cursor: pointer;\n",
              "      display: none;\n",
              "      fill: #1967D2;\n",
              "      height: 32px;\n",
              "      padding: 0 0 0 0;\n",
              "      width: 32px;\n",
              "    }\n",
              "\n",
              "    .colab-df-convert:hover {\n",
              "      background-color: #E2EBFA;\n",
              "      box-shadow: 0px 1px 2px rgba(60, 64, 67, 0.3), 0px 1px 3px 1px rgba(60, 64, 67, 0.15);\n",
              "      fill: #174EA6;\n",
              "    }\n",
              "\n",
              "    .colab-df-buttons div {\n",
              "      margin-bottom: 4px;\n",
              "    }\n",
              "\n",
              "    [theme=dark] .colab-df-convert {\n",
              "      background-color: #3B4455;\n",
              "      fill: #D2E3FC;\n",
              "    }\n",
              "\n",
              "    [theme=dark] .colab-df-convert:hover {\n",
              "      background-color: #434B5C;\n",
              "      box-shadow: 0px 1px 3px 1px rgba(0, 0, 0, 0.15);\n",
              "      filter: drop-shadow(0px 1px 2px rgba(0, 0, 0, 0.3));\n",
              "      fill: #FFFFFF;\n",
              "    }\n",
              "  </style>\n",
              "\n",
              "    <script>\n",
              "      const buttonEl =\n",
              "        document.querySelector('#df-71c080b8-8877-4c02-91e2-5fe1d2525518 button.colab-df-convert');\n",
              "      buttonEl.style.display =\n",
              "        google.colab.kernel.accessAllowed ? 'block' : 'none';\n",
              "\n",
              "      async function convertToInteractive(key) {\n",
              "        const element = document.querySelector('#df-71c080b8-8877-4c02-91e2-5fe1d2525518');\n",
              "        const dataTable =\n",
              "          await google.colab.kernel.invokeFunction('convertToInteractive',\n",
              "                                                    [key], {});\n",
              "        if (!dataTable) return;\n",
              "\n",
              "        const docLinkHtml = 'Like what you see? Visit the ' +\n",
              "          '<a target=\"_blank\" href=https://colab.research.google.com/notebooks/data_table.ipynb>data table notebook</a>'\n",
              "          + ' to learn more about interactive tables.';\n",
              "        element.innerHTML = '';\n",
              "        dataTable['output_type'] = 'display_data';\n",
              "        await google.colab.output.renderOutput(dataTable, element);\n",
              "        const docLink = document.createElement('div');\n",
              "        docLink.innerHTML = docLinkHtml;\n",
              "        element.appendChild(docLink);\n",
              "      }\n",
              "    </script>\n",
              "  </div>\n",
              "\n",
              "\n",
              "<div id=\"df-39549cc6-14e7-4d67-a116-07b75320f795\">\n",
              "  <button class=\"colab-df-quickchart\" onclick=\"quickchart('df-39549cc6-14e7-4d67-a116-07b75320f795')\"\n",
              "            title=\"Suggest charts\"\n",
              "            style=\"display:none;\">\n",
              "\n",
              "<svg xmlns=\"http://www.w3.org/2000/svg\" height=\"24px\"viewBox=\"0 0 24 24\"\n",
              "     width=\"24px\">\n",
              "    <g>\n",
              "        <path d=\"M19 3H5c-1.1 0-2 .9-2 2v14c0 1.1.9 2 2 2h14c1.1 0 2-.9 2-2V5c0-1.1-.9-2-2-2zM9 17H7v-7h2v7zm4 0h-2V7h2v10zm4 0h-2v-4h2v4z\"/>\n",
              "    </g>\n",
              "</svg>\n",
              "  </button>\n",
              "\n",
              "<style>\n",
              "  .colab-df-quickchart {\n",
              "      --bg-color: #E8F0FE;\n",
              "      --fill-color: #1967D2;\n",
              "      --hover-bg-color: #E2EBFA;\n",
              "      --hover-fill-color: #174EA6;\n",
              "      --disabled-fill-color: #AAA;\n",
              "      --disabled-bg-color: #DDD;\n",
              "  }\n",
              "\n",
              "  [theme=dark] .colab-df-quickchart {\n",
              "      --bg-color: #3B4455;\n",
              "      --fill-color: #D2E3FC;\n",
              "      --hover-bg-color: #434B5C;\n",
              "      --hover-fill-color: #FFFFFF;\n",
              "      --disabled-bg-color: #3B4455;\n",
              "      --disabled-fill-color: #666;\n",
              "  }\n",
              "\n",
              "  .colab-df-quickchart {\n",
              "    background-color: var(--bg-color);\n",
              "    border: none;\n",
              "    border-radius: 50%;\n",
              "    cursor: pointer;\n",
              "    display: none;\n",
              "    fill: var(--fill-color);\n",
              "    height: 32px;\n",
              "    padding: 0;\n",
              "    width: 32px;\n",
              "  }\n",
              "\n",
              "  .colab-df-quickchart:hover {\n",
              "    background-color: var(--hover-bg-color);\n",
              "    box-shadow: 0 1px 2px rgba(60, 64, 67, 0.3), 0 1px 3px 1px rgba(60, 64, 67, 0.15);\n",
              "    fill: var(--button-hover-fill-color);\n",
              "  }\n",
              "\n",
              "  .colab-df-quickchart-complete:disabled,\n",
              "  .colab-df-quickchart-complete:disabled:hover {\n",
              "    background-color: var(--disabled-bg-color);\n",
              "    fill: var(--disabled-fill-color);\n",
              "    box-shadow: none;\n",
              "  }\n",
              "\n",
              "  .colab-df-spinner {\n",
              "    border: 2px solid var(--fill-color);\n",
              "    border-color: transparent;\n",
              "    border-bottom-color: var(--fill-color);\n",
              "    animation:\n",
              "      spin 1s steps(1) infinite;\n",
              "  }\n",
              "\n",
              "  @keyframes spin {\n",
              "    0% {\n",
              "      border-color: transparent;\n",
              "      border-bottom-color: var(--fill-color);\n",
              "      border-left-color: var(--fill-color);\n",
              "    }\n",
              "    20% {\n",
              "      border-color: transparent;\n",
              "      border-left-color: var(--fill-color);\n",
              "      border-top-color: var(--fill-color);\n",
              "    }\n",
              "    30% {\n",
              "      border-color: transparent;\n",
              "      border-left-color: var(--fill-color);\n",
              "      border-top-color: var(--fill-color);\n",
              "      border-right-color: var(--fill-color);\n",
              "    }\n",
              "    40% {\n",
              "      border-color: transparent;\n",
              "      border-right-color: var(--fill-color);\n",
              "      border-top-color: var(--fill-color);\n",
              "    }\n",
              "    60% {\n",
              "      border-color: transparent;\n",
              "      border-right-color: var(--fill-color);\n",
              "    }\n",
              "    80% {\n",
              "      border-color: transparent;\n",
              "      border-right-color: var(--fill-color);\n",
              "      border-bottom-color: var(--fill-color);\n",
              "    }\n",
              "    90% {\n",
              "      border-color: transparent;\n",
              "      border-bottom-color: var(--fill-color);\n",
              "    }\n",
              "  }\n",
              "</style>\n",
              "\n",
              "  <script>\n",
              "    async function quickchart(key) {\n",
              "      const quickchartButtonEl =\n",
              "        document.querySelector('#' + key + ' button');\n",
              "      quickchartButtonEl.disabled = true;  // To prevent multiple clicks.\n",
              "      quickchartButtonEl.classList.add('colab-df-spinner');\n",
              "      try {\n",
              "        const charts = await google.colab.kernel.invokeFunction(\n",
              "            'suggestCharts', [key], {});\n",
              "      } catch (error) {\n",
              "        console.error('Error during call to suggestCharts:', error);\n",
              "      }\n",
              "      quickchartButtonEl.classList.remove('colab-df-spinner');\n",
              "      quickchartButtonEl.classList.add('colab-df-quickchart-complete');\n",
              "    }\n",
              "    (() => {\n",
              "      let quickchartButtonEl =\n",
              "        document.querySelector('#df-39549cc6-14e7-4d67-a116-07b75320f795 button');\n",
              "      quickchartButtonEl.style.display =\n",
              "        google.colab.kernel.accessAllowed ? 'block' : 'none';\n",
              "    })();\n",
              "  </script>\n",
              "</div>\n",
              "    </div>\n",
              "  </div>\n"
            ]
          },
          "metadata": {},
          "execution_count": 39
        }
      ]
    },
    {
      "cell_type": "markdown",
      "source": [
        "# Exploratory"
      ],
      "metadata": {
        "id": "npxppnhvbdSI"
      }
    },
    {
      "cell_type": "code",
      "source": [
        "df['ingredients_count'] = df['ingredients'].str.len().fillna(0)\n",
        "df['instructions_count'] = df['instructions'].str.strip().str.split().str.len().fillna(0)"
      ],
      "metadata": {
        "id": "uEM5bEvyYWFr"
      },
      "execution_count": 120,
      "outputs": []
    },
    {
      "cell_type": "code",
      "source": [
        "df['ingredients_count'].describe()"
      ],
      "metadata": {
        "colab": {
          "base_uri": "https://localhost:8080/"
        },
        "id": "pptKNpg8cvOp",
        "outputId": "d2a61aa0-4648-4639-ea45-ef2f0ec0a134"
      },
      "execution_count": 121,
      "outputs": [
        {
          "output_type": "execute_result",
          "data": {
            "text/plain": [
              "count    65125.000000\n",
              "mean         9.944353\n",
              "std          4.254857\n",
              "min          0.000000\n",
              "25%          7.000000\n",
              "50%          9.000000\n",
              "75%         12.000000\n",
              "max         51.000000\n",
              "Name: ingredients_count, dtype: float64"
            ]
          },
          "metadata": {},
          "execution_count": 121
        }
      ]
    },
    {
      "cell_type": "code",
      "source": [
        "ing_05 = df['ingredients_count'].quantile(0.05)\n",
        "ing_05"
      ],
      "metadata": {
        "colab": {
          "base_uri": "https://localhost:8080/"
        },
        "id": "53IgfHX2gvMd",
        "outputId": "1e7b8925-64b2-453a-e8cf-04e17444b159"
      },
      "execution_count": 122,
      "outputs": [
        {
          "output_type": "execute_result",
          "data": {
            "text/plain": [
              "4.0"
            ]
          },
          "metadata": {},
          "execution_count": 122
        }
      ]
    },
    {
      "cell_type": "code",
      "source": [
        "sns.boxplot(df, x='ingredients_count', y='source', showfliers=False)"
      ],
      "metadata": {
        "colab": {
          "base_uri": "https://localhost:8080/",
          "height": 467
        },
        "id": "-xO6QkFpbbre",
        "outputId": "4f1e34f0-f4ca-4642-c23f-912adb623652"
      },
      "execution_count": 123,
      "outputs": [
        {
          "output_type": "execute_result",
          "data": {
            "text/plain": [
              "<Axes: xlabel='ingredients_count', ylabel='source'>"
            ]
          },
          "metadata": {},
          "execution_count": 123
        },
        {
          "output_type": "display_data",
          "data": {
            "text/plain": [
              "<Figure size 640x480 with 1 Axes>"
            ],
            "image/png": "[encoded data removed]"
          },
          "metadata": {}
        }
      ]
    },
    {
      "cell_type": "code",
      "source": [
        "df['instructions_count'].describe()\n"
      ],
      "metadata": {
        "colab": {
          "base_uri": "https://localhost:8080/"
        },
        "id": "AeBCPe_Nc1AX",
        "outputId": "1d310092-e625-4e2e-83a1-f699891bbc13"
      },
      "execution_count": 124,
      "outputs": [
        {
          "output_type": "execute_result",
          "data": {
            "text/plain": [
              "count    65125.000000\n",
              "mean       180.751846\n",
              "std        181.784575\n",
              "min          0.000000\n",
              "25%         74.000000\n",
              "50%        121.000000\n",
              "75%        222.000000\n",
              "max       5233.000000\n",
              "Name: instructions_count, dtype: float64"
            ]
          },
          "metadata": {},
          "execution_count": 124
        }
      ]
    },
    {
      "cell_type": "code",
      "source": [
        "inst_95 = df['instructions_count'].quantile(0.95)\n",
        "inst_95"
      ],
      "metadata": {
        "colab": {
          "base_uri": "https://localhost:8080/"
        },
        "id": "GyuhaH7HdcTJ",
        "outputId": "c4459ec2-c489-4447-f40e-09c6d65c70ef"
      },
      "execution_count": 125,
      "outputs": [
        {
          "output_type": "execute_result",
          "data": {
            "text/plain": [
              "530.0"
            ]
          },
          "metadata": {},
          "execution_count": 125
        }
      ]
    },
    {
      "cell_type": "code",
      "source": [
        "sns.boxplot(df, x='instructions_count', y='source', showfliers=False)\n"
      ],
      "metadata": {
        "colab": {
          "base_uri": "https://localhost:8080/",
          "height": 467
        },
        "id": "WFU6tK4fcXn3",
        "outputId": "86bfab4f-e121-4470-ae9d-595297afa277"
      },
      "execution_count": 126,
      "outputs": [
        {
          "output_type": "execute_result",
          "data": {
            "text/plain": [
              "<Axes: xlabel='instructions_count', ylabel='source'>"
            ]
          },
          "metadata": {},
          "execution_count": 126
        },
        {
          "output_type": "display_data",
          "data": {
            "text/plain": [
              "<Figure size 640x480 with 1 Axes>"
            ],
            "image/png": "[encoded data removed]"
          },
          "metadata": {}
        }
      ]
    },
    {
      "cell_type": "markdown",
      "source": [
        "# Clean Data"
      ],
      "metadata": {
        "id": "e8vdxhfjkTCR"
      }
    },
    {
      "cell_type": "code",
      "source": [
        "clean_df = df.query(f'(instructions_count<={inst_95}) & (ingredients_count>={ing_05}) & (instructions_count>0)')"
      ],
      "metadata": {
        "id": "Rbzp2N4Vc_cw"
      },
      "execution_count": 127,
      "outputs": []
    },
    {
      "cell_type": "code",
      "source": [
        "print('Ori Shape', df.shape[0])\n",
        "print('Clean Shape', clean_df.shape[0])\n",
        "print('%', clean_df.shape[0]/df.shape[0])"
      ],
      "metadata": {
        "colab": {
          "base_uri": "https://localhost:8080/"
        },
        "id": "Xgbmt0bYee5M",
        "outputId": "a1bb3abe-9e47-4bfb-9204-41850bd31fda"
      },
      "execution_count": 128,
      "outputs": [
        {
          "output_type": "stream",
          "name": "stdout",
          "text": [
            "Ori Shape 65125\n",
            "Clean Shape 60198\n",
            "% 0.9243454894433781\n"
          ]
        }
      ]
    },
    {
      "cell_type": "code",
      "source": [
        "def create_prompt(x, y):\n",
        "  return f\"\"\"Ingredients:\n",
        "{x}\n",
        "\n",
        "Instructions:\n",
        "{y}\n",
        "<|endoftext|>\"\"\""
      ],
      "metadata": {
        "id": "1RjlpwYnfeaY"
      },
      "execution_count": 150,
      "outputs": []
    },
    {
      "cell_type": "code",
      "source": [
        "clean_df['ingredients_str'] = clean_df['ingredients'].str.join('\\n').str.replace('ADVERTISEMENT', '')\n",
        "clean_df['instructions'] = clean_df['instructions'].str.replace('ADVERTISEMENT', '')"
      ],
      "metadata": {
        "colab": {
          "base_uri": "https://localhost:8080/"
        },
        "id": "HFiVlg3Yi8Eq",
        "outputId": "7ae9d77a-39e3-4812-cad5-34a04290f871"
      },
      "execution_count": 156,
      "outputs": [
        {
          "output_type": "stream",
          "name": "stderr",
          "text": [
            "<ipython-input-156-a25793f346b4>:1: SettingWithCopyWarning: \n",
            "A value is trying to be set on a copy of a slice from a DataFrame.\n",
            "Try using .loc[row_indexer,col_indexer] = value instead\n",
            "\n",
            "See the caveats in the documentation: https://pandas.pydata.org/pandas-docs/stable/user_guide/indexing.html#returning-a-view-versus-a-copy\n",
            "  clean_df['ingredients_str'] = clean_df['ingredients'].str.join('\\n').str.replace('ADVERTISEMENT', '')\n",
            "<ipython-input-156-a25793f346b4>:2: SettingWithCopyWarning: \n",
            "A value is trying to be set on a copy of a slice from a DataFrame.\n",
            "Try using .loc[row_indexer,col_indexer] = value instead\n",
            "\n",
            "See the caveats in the documentation: https://pandas.pydata.org/pandas-docs/stable/user_guide/indexing.html#returning-a-view-versus-a-copy\n",
            "  clean_df['instructions'] = clean_df['instructions'].str.replace('ADVERTISEMENT', '')\n"
          ]
        }
      ]
    },
    {
      "cell_type": "code",
      "source": [
        "clean_df['prompt'] = clean_df[['ingredients_str', 'instructions']].apply(lambda x: create_prompt(x['ingredients_str'], x['instructions']), axis=1)"
      ],
      "metadata": {
        "colab": {
          "base_uri": "https://localhost:8080/"
        },
        "id": "ajl0Ow64eqg_",
        "outputId": "913a013a-36f8-4ab3-92d2-64301556d8a3"
      },
      "execution_count": 157,
      "outputs": [
        {
          "output_type": "stream",
          "name": "stderr",
          "text": [
            "<ipython-input-157-3aaa2d4395d0>:1: SettingWithCopyWarning: \n",
            "A value is trying to be set on a copy of a slice from a DataFrame.\n",
            "Try using .loc[row_indexer,col_indexer] = value instead\n",
            "\n",
            "See the caveats in the documentation: https://pandas.pydata.org/pandas-docs/stable/user_guide/indexing.html#returning-a-view-versus-a-copy\n",
            "  clean_df['prompt'] = clean_df[['ingredients_str', 'instructions']].apply(lambda x: create_prompt(x['ingredients_str'], x['instructions']), axis=1)\n"
          ]
        }
      ]
    },
    {
      "cell_type": "code",
      "source": [
        "print(clean_df['prompt'].iloc[0])"
      ],
      "metadata": {
        "colab": {
          "base_uri": "https://localhost:8080/"
        },
        "id": "lZcFLTH8gJ_s",
        "outputId": "1ca7b510-543b-4e61-b782-6ed20c460844"
      },
      "execution_count": 158,
      "outputs": [
        {
          "output_type": "stream",
          "name": "stdout",
          "text": [
            "Ingredients:\n",
            "12 egg whites\n",
            "12 egg yolks\n",
            "1 1/2 cups sugar\n",
            "3/4 cup rye whiskey\n",
            "12 egg whites\n",
            "3/4 cup brandy\n",
            "1/2 cup rum\n",
            "1 to 2 cups heavy cream, lightly whipped\n",
            "Garnish: ground nutmeg\n",
            "\n",
            "Instructions:\n",
            "Beat the egg whites until stiff, gradually adding in 3/4 cup sugar. Set aside. Beat the egg yolks until they are thick and pale and add the other 3/4 cup sugar and stir in rye whiskey. Blend well. Fold the egg white mixture into the yolk mixture and add the brandy and the rum. Beat the mixture well. To serve, fold the lightly whipped heavy cream into the eggnog. (If a thinner mixture is desired, add the heavy cream unwhipped.) Sprinkle the top of the eggnog with the nutmeg to taste.\n",
            "Beat the egg whites until stiff, gradually adding in 3/4 cup sugar. Set aside. Beat the egg yolks until they are thick and pale and add the other 3/4 cup sugar and stir in rye whiskey. Blend well. Fold the egg white mixture into the yolk mixture and add the brandy and the rum. Beat the mixture well. To serve, fold the lightly whipped heavy cream into the eggnog. (If a thinner mixture is desired, add the heavy cream unwhipped.) Sprinkle the top of the eggnog with the nutmeg to taste.\n",
            "<|endoftext|>\n"
          ]
        }
      ]
    },
    {
      "cell_type": "code",
      "source": [
        "from sklearn.model_selection import train_test_split"
      ],
      "metadata": {
        "id": "KmW8OyAuhHL5"
      },
      "execution_count": 159,
      "outputs": []
    },
    {
      "cell_type": "code",
      "source": [
        "X, y = train_test_split(clean_df['prompt'], test_size=0.2, random_state=23)"
      ],
      "metadata": {
        "id": "QwI3b7Pdjvv9"
      },
      "execution_count": 162,
      "outputs": []
    },
    {
      "cell_type": "code",
      "source": [
        "X.size, y.size"
      ],
      "metadata": {
        "colab": {
          "base_uri": "https://localhost:8080/"
        },
        "id": "wBcyWJWBj4NH",
        "outputId": "896f5b0b-368b-4e71-b129-3e64aab1e2c4"
      },
      "execution_count": 164,
      "outputs": [
        {
          "output_type": "execute_result",
          "data": {
            "text/plain": [
              "(48158, 12040)"
            ]
          },
          "metadata": {},
          "execution_count": 164
        }
      ]
    },
    {
      "cell_type": "code",
      "source": [],
      "metadata": {
        "id": "FeMxtQ1aj_CO"
      },
      "execution_count": null,
      "outputs": []
    }
  ]
}