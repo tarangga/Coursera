{
  "nbformat": 4,
  "nbformat_minor": 0,
  "metadata": {
    "colab": {
      "provenance": [],
      "mount_file_id": "1Ygtemq2m47aFxYPeg8fDDvwX577uBJMn",
      "authorship_tag": "ABX9TyOP+Twml/vBjEL8+U8Vq0EO",
      "include_colab_link": true
    },
    "kernelspec": {
      "name": "python3",
      "display_name": "Python 3"
    },
    "language_info": {
      "name": "python"
    }
  },
  "cells": [
    {
      "cell_type": "markdown",
      "metadata": {
        "id": "view-in-github",
        "colab_type": "text"
      },
      "source": [
        "<a href=\"https://colab.research.google.com/github/tarangga/Coursera/blob/main/Coursera_Trying_Text_Generation_with_VertexAI.ipynb\" target=\"_parent\"><img src=\"https://colab.research.google.com/assets/colab-badge.svg\" alt=\"Open In Colab\"/></a>"
      ]
    },
    {
      "cell_type": "code",
      "execution_count": null,
      "metadata": {
        "colab": {
          "base_uri": "https://localhost:8080/",
          "height": 706
        },
        "id": "FNdNL1eB6cjK",
        "outputId": "0f9a8fc0-3ff6-427d-fbc8-bf413529ff59"
      },
      "outputs": [
        {
          "output_type": "stream",
          "name": "stdout",
          "text": [
            "Collecting google-cloud-aiplatform\n",
            "  Downloading google_cloud_aiplatform-1.36.4-py2.py3-none-any.whl (3.3 MB)\n",
            "\u001b[2K     \u001b[90m━━━━━━━━━━━━━━━━━━━━━━━━━━━━━━━━━━━━━━━━\u001b[0m \u001b[32m3.3/3.3 MB\u001b[0m \u001b[31m26.3 MB/s\u001b[0m eta \u001b[36m0:00:00\u001b[0m\n",
            "\u001b[?25hRequirement already satisfied: google-api-core[grpc]!=2.0.*,!=2.1.*,!=2.2.*,!=2.3.*,!=2.4.*,!=2.5.*,!=2.6.*,!=2.7.*,<3.0.0dev,>=1.32.0 in /usr/local/lib/python3.10/dist-packages (from google-cloud-aiplatform) (2.11.1)\n",
            "Requirement already satisfied: proto-plus<2.0.0dev,>=1.22.0 in /usr/local/lib/python3.10/dist-packages (from google-cloud-aiplatform) (1.22.3)\n",
            "Requirement already satisfied: protobuf!=3.20.0,!=3.20.1,!=4.21.0,!=4.21.1,!=4.21.2,!=4.21.3,!=4.21.4,!=4.21.5,<5.0.0dev,>=3.19.5 in /usr/local/lib/python3.10/dist-packages (from google-cloud-aiplatform) (3.20.3)\n",
            "Requirement already satisfied: packaging>=14.3 in /usr/local/lib/python3.10/dist-packages (from google-cloud-aiplatform) (23.2)\n",
            "Requirement already satisfied: google-cloud-storage<3.0.0dev,>=1.32.0 in /usr/local/lib/python3.10/dist-packages (from google-cloud-aiplatform) (2.8.0)\n",
            "Requirement already satisfied: google-cloud-bigquery<4.0.0dev,>=1.15.0 in /usr/local/lib/python3.10/dist-packages (from google-cloud-aiplatform) (3.12.0)\n",
            "Requirement already satisfied: google-cloud-resource-manager<3.0.0dev,>=1.3.3 in /usr/local/lib/python3.10/dist-packages (from google-cloud-aiplatform) (1.10.4)\n",
            "Requirement already satisfied: shapely<3.0.0dev in /usr/local/lib/python3.10/dist-packages (from google-cloud-aiplatform) (2.0.2)\n",
            "Requirement already satisfied: googleapis-common-protos<2.0.dev0,>=1.56.2 in /usr/local/lib/python3.10/dist-packages (from google-api-core[grpc]!=2.0.*,!=2.1.*,!=2.2.*,!=2.3.*,!=2.4.*,!=2.5.*,!=2.6.*,!=2.7.*,<3.0.0dev,>=1.32.0->google-cloud-aiplatform) (1.61.0)\n",
            "Requirement already satisfied: google-auth<3.0.dev0,>=2.14.1 in /usr/local/lib/python3.10/dist-packages (from google-api-core[grpc]!=2.0.*,!=2.1.*,!=2.2.*,!=2.3.*,!=2.4.*,!=2.5.*,!=2.6.*,!=2.7.*,<3.0.0dev,>=1.32.0->google-cloud-aiplatform) (2.17.3)\n",
            "Requirement already satisfied: requests<3.0.0.dev0,>=2.18.0 in /usr/local/lib/python3.10/dist-packages (from google-api-core[grpc]!=2.0.*,!=2.1.*,!=2.2.*,!=2.3.*,!=2.4.*,!=2.5.*,!=2.6.*,!=2.7.*,<3.0.0dev,>=1.32.0->google-cloud-aiplatform) (2.31.0)\n",
            "Requirement already satisfied: grpcio<2.0dev,>=1.33.2 in /usr/local/lib/python3.10/dist-packages (from google-api-core[grpc]!=2.0.*,!=2.1.*,!=2.2.*,!=2.3.*,!=2.4.*,!=2.5.*,!=2.6.*,!=2.7.*,<3.0.0dev,>=1.32.0->google-cloud-aiplatform) (1.59.2)\n",
            "Requirement already satisfied: grpcio-status<2.0.dev0,>=1.33.2 in /usr/local/lib/python3.10/dist-packages (from google-api-core[grpc]!=2.0.*,!=2.1.*,!=2.2.*,!=2.3.*,!=2.4.*,!=2.5.*,!=2.6.*,!=2.7.*,<3.0.0dev,>=1.32.0->google-cloud-aiplatform) (1.48.2)\n",
            "Requirement already satisfied: google-cloud-core<3.0.0dev,>=1.6.0 in /usr/local/lib/python3.10/dist-packages (from google-cloud-bigquery<4.0.0dev,>=1.15.0->google-cloud-aiplatform) (2.3.3)\n",
            "Requirement already satisfied: google-resumable-media<3.0dev,>=0.6.0 in /usr/local/lib/python3.10/dist-packages (from google-cloud-bigquery<4.0.0dev,>=1.15.0->google-cloud-aiplatform) (2.6.0)\n",
            "Requirement already satisfied: python-dateutil<3.0dev,>=2.7.2 in /usr/local/lib/python3.10/dist-packages (from google-cloud-bigquery<4.0.0dev,>=1.15.0->google-cloud-aiplatform) (2.8.2)\n",
            "Requirement already satisfied: grpc-google-iam-v1<1.0.0dev,>=0.12.4 in /usr/local/lib/python3.10/dist-packages (from google-cloud-resource-manager<3.0.0dev,>=1.3.3->google-cloud-aiplatform) (0.12.7)\n",
            "Requirement already satisfied: numpy>=1.14 in /usr/local/lib/python3.10/dist-packages (from shapely<3.0.0dev->google-cloud-aiplatform) (1.23.5)\n",
            "Requirement already satisfied: cachetools<6.0,>=2.0.0 in /usr/local/lib/python3.10/dist-packages (from google-auth<3.0.dev0,>=2.14.1->google-api-core[grpc]!=2.0.*,!=2.1.*,!=2.2.*,!=2.3.*,!=2.4.*,!=2.5.*,!=2.6.*,!=2.7.*,<3.0.0dev,>=1.32.0->google-cloud-aiplatform) (5.3.2)\n",
            "Requirement already satisfied: pyasn1-modules>=0.2.1 in /usr/local/lib/python3.10/dist-packages (from google-auth<3.0.dev0,>=2.14.1->google-api-core[grpc]!=2.0.*,!=2.1.*,!=2.2.*,!=2.3.*,!=2.4.*,!=2.5.*,!=2.6.*,!=2.7.*,<3.0.0dev,>=1.32.0->google-cloud-aiplatform) (0.3.0)\n",
            "Requirement already satisfied: six>=1.9.0 in /usr/local/lib/python3.10/dist-packages (from google-auth<3.0.dev0,>=2.14.1->google-api-core[grpc]!=2.0.*,!=2.1.*,!=2.2.*,!=2.3.*,!=2.4.*,!=2.5.*,!=2.6.*,!=2.7.*,<3.0.0dev,>=1.32.0->google-cloud-aiplatform) (1.16.0)\n",
            "Requirement already satisfied: rsa<5,>=3.1.4 in /usr/local/lib/python3.10/dist-packages (from google-auth<3.0.dev0,>=2.14.1->google-api-core[grpc]!=2.0.*,!=2.1.*,!=2.2.*,!=2.3.*,!=2.4.*,!=2.5.*,!=2.6.*,!=2.7.*,<3.0.0dev,>=1.32.0->google-cloud-aiplatform) (4.9)\n",
            "Requirement already satisfied: google-crc32c<2.0dev,>=1.0 in /usr/local/lib/python3.10/dist-packages (from google-resumable-media<3.0dev,>=0.6.0->google-cloud-bigquery<4.0.0dev,>=1.15.0->google-cloud-aiplatform) (1.5.0)\n",
            "Requirement already satisfied: charset-normalizer<4,>=2 in /usr/local/lib/python3.10/dist-packages (from requests<3.0.0.dev0,>=2.18.0->google-api-core[grpc]!=2.0.*,!=2.1.*,!=2.2.*,!=2.3.*,!=2.4.*,!=2.5.*,!=2.6.*,!=2.7.*,<3.0.0dev,>=1.32.0->google-cloud-aiplatform) (3.3.2)\n",
            "Requirement already satisfied: idna<4,>=2.5 in /usr/local/lib/python3.10/dist-packages (from requests<3.0.0.dev0,>=2.18.0->google-api-core[grpc]!=2.0.*,!=2.1.*,!=2.2.*,!=2.3.*,!=2.4.*,!=2.5.*,!=2.6.*,!=2.7.*,<3.0.0dev,>=1.32.0->google-cloud-aiplatform) (3.4)\n",
            "Requirement already satisfied: urllib3<3,>=1.21.1 in /usr/local/lib/python3.10/dist-packages (from requests<3.0.0.dev0,>=2.18.0->google-api-core[grpc]!=2.0.*,!=2.1.*,!=2.2.*,!=2.3.*,!=2.4.*,!=2.5.*,!=2.6.*,!=2.7.*,<3.0.0dev,>=1.32.0->google-cloud-aiplatform) (2.0.7)\n",
            "Requirement already satisfied: certifi>=2017.4.17 in /usr/local/lib/python3.10/dist-packages (from requests<3.0.0.dev0,>=2.18.0->google-api-core[grpc]!=2.0.*,!=2.1.*,!=2.2.*,!=2.3.*,!=2.4.*,!=2.5.*,!=2.6.*,!=2.7.*,<3.0.0dev,>=1.32.0->google-cloud-aiplatform) (2023.7.22)\n",
            "Requirement already satisfied: pyasn1<0.6.0,>=0.4.6 in /usr/local/lib/python3.10/dist-packages (from pyasn1-modules>=0.2.1->google-auth<3.0.dev0,>=2.14.1->google-api-core[grpc]!=2.0.*,!=2.1.*,!=2.2.*,!=2.3.*,!=2.4.*,!=2.5.*,!=2.6.*,!=2.7.*,<3.0.0dev,>=1.32.0->google-cloud-aiplatform) (0.5.0)\n",
            "Installing collected packages: google-cloud-aiplatform\n",
            "Successfully installed google-cloud-aiplatform-1.36.4\n"
          ]
        },
        {
          "output_type": "display_data",
          "data": {
            "application/vnd.colab-display-data+json": {
              "pip_warning": {
                "packages": [
                  "google"
                ]
              }
            }
          },
          "metadata": {}
        }
      ],
      "source": [
        "!pip install google-cloud-aiplatform"
      ]
    },
    {
      "cell_type": "code",
      "source": [
        "from google.colab import userdata\n",
        "import os\n",
        "os.environ[\"GOOGLE_APPLICATION_CREDENTIALS\"] = userdata.get('gcp-credentials')\n"
      ],
      "metadata": {
        "id": "tNbBjRiZrhmH"
      },
      "execution_count": null,
      "outputs": []
    },
    {
      "cell_type": "code",
      "source": [
        "import vertexai\n",
        "from time import sleep\n",
        "from vertexai.language_models import TextGenerationModel"
      ],
      "metadata": {
        "id": "XvIDCY79ruir"
      },
      "execution_count": 30,
      "outputs": []
    },
    {
      "cell_type": "code",
      "source": [
        "gen_model = TextGenerationModel.from_pretrained(\"text-bison@001\")"
      ],
      "metadata": {
        "id": "7PaRmhRyr3fI"
      },
      "execution_count": null,
      "outputs": []
    },
    {
      "cell_type": "code",
      "source": [
        "prompt =\"\"\"\n",
        "Saya ingin belajar bahasa program yang digunakan untuk melakukkan pengembangan kecerdasan buatan, bahasa pemrograman apa yang cocok untuk saya? apakah python atau R?\n",
        "\"\"\""
      ],
      "metadata": {
        "id": "QJucL1I1sTH1"
      },
      "execution_count": null,
      "outputs": []
    },
    {
      "cell_type": "code",
      "source": [
        "resp = gen_model.predict(prompt=prompt)"
      ],
      "metadata": {
        "id": "AI_YWObmsj8k"
      },
      "execution_count": null,
      "outputs": []
    },
    {
      "cell_type": "code",
      "source": [
        "resp.text"
      ],
      "metadata": {
        "colab": {
          "base_uri": "https://localhost:8080/",
          "height": 105
        },
        "id": "V-p6DIjVs2sr",
        "outputId": "618a155b-9639-4b1b-cf7d-ee1e7bd6a971"
      },
      "execution_count": null,
      "outputs": [
        {
          "output_type": "execute_result",
          "data": {
            "text/plain": [
              "'Python dan R adalah dua bahasa pemrograman yang populer untuk pengembangan kecerdasan buatan. Python adalah bahasa pemrograman yang serbaguna yang dapat digunakan untuk berbagai tugas, termasuk pengembangan kecerdasan buatan. R adalah bahasa pemrograman yang dirancang khusus untuk statistik dan analisis data, tetapi juga dapat digunakan untuk pengembangan kecerdasan buatan.\\n\\nPython dan R memiliki kelebihan dan kekurangan masing-masing. Python lebih mudah dipelajari daripada R, tetapi R memiliki lebih banyak fungsi yang dirancang khusus untuk statistik dan analisis data. Jika Anda ingin mempelajari bahasa pemrograman yang dapat digunakan untuk berbagai tugas, termasuk pengembangan kecerdasan buatan, maka'"
            ],
            "application/vnd.google.colaboratory.intrinsic+json": {
              "type": "string"
            }
          },
          "metadata": {},
          "execution_count": 17
        }
      ]
    },
    {
      "cell_type": "code",
      "source": [
        "prompt =\"\"\"\n",
        "Ir. H. Joko Widodo adalah presiden Indonesia yang mulai menjabat sejak tanggal 20 Oktober 2014. Terpilih dalam Pemilu Presiden 2014, Jokowi menjadi presiden Indonesia pertama yang bukan berasal dari elite politik atau militer Indonesia.\n",
        "\n",
        "ekstrak nama tokoh, tempat, dan tanggal lahirnya dalam bentuk JSON\n",
        "\"\"\""
      ],
      "metadata": {
        "id": "APZinTHOtq7j"
      },
      "execution_count": 22,
      "outputs": []
    },
    {
      "cell_type": "code",
      "source": [
        "resp = gen_model.predict(prompt=prompt)\n",
        "resp"
      ],
      "metadata": {
        "id": "QFaLQd5HuChB",
        "colab": {
          "base_uri": "https://localhost:8080/"
        },
        "outputId": "4abda54b-d407-42d0-c1f4-03e2efd67bd8"
      },
      "execution_count": 23,
      "outputs": [
        {
          "output_type": "execute_result",
          "data": {
            "text/plain": [
              "{\n",
              "  \"nama\": \"Ir. H. Joko Widodo\",\n",
              "  \"tempat\": \"Surakarta\",\n",
              "  \"tanggal\": \"21 Juni 1961\"\n",
              "}"
            ]
          },
          "metadata": {},
          "execution_count": 23
        }
      ]
    },
    {
      "cell_type": "code",
      "source": [
        "prompt = \"\"\"\n",
        "lanjutkan teks berikut:\n",
        "setelah membeli pakaian saya pergi ke\n",
        "\"\"\""
      ],
      "metadata": {
        "id": "I1omJZA9v55w"
      },
      "execution_count": 27,
      "outputs": []
    },
    {
      "cell_type": "code",
      "source": [
        "for t in [0, .1, .2, .4, .5, .8, 1]:\n",
        "  print('########### temperature', t)\n",
        "  for _ in range(2):\n",
        "    resp = gen_model.predict(prompt=prompt, temperature=t)\n",
        "    print(resp.text, end='\\n\\n')\n",
        "\n"
      ],
      "metadata": {
        "colab": {
          "base_uri": "https://localhost:8080/",
          "height": 913
        },
        "id": "3zpT8gMPuMxQ",
        "outputId": "08e1db78-c04d-497d-f496-1130d8046671"
      },
      "execution_count": 28,
      "outputs": [
        {
          "output_type": "stream",
          "name": "stdout",
          "text": [
            "########### temperature 0\n",
            "Setelah membeli pakaian, saya pergi ke toko buku. Saya ingin membeli buku baru untuk dibaca. Saya suka membaca buku karena buku dapat memberikan saya pengetahuan dan hiburan. Saya juga suka membaca buku karena buku dapat membantu saya untuk mengembangkan imajinasi saya. Saya suka membaca buku karena buku dapat membantu saya untuk belajar tentang berbagai hal. Saya suka membaca buku karena buku dapat membantu saya untuk menjadi orang yang lebih baik.\n",
            "\n",
            "Setelah membeli pakaian, saya pergi ke toko buku. Saya ingin membeli buku baru untuk dibaca. Saya suka membaca buku karena buku dapat memberikan saya pengetahuan dan hiburan. Saya juga suka membaca buku karena buku dapat membantu saya untuk mengembangkan imajinasi saya. Saya suka membaca buku karena buku dapat membantu saya untuk belajar tentang berbagai hal. Saya suka membaca buku karena buku dapat membantu saya untuk menjadi orang yang lebih baik.\n",
            "\n",
            "########### temperature 0.1\n",
            "Setelah membeli pakaian saya pergi ke toko buku. Saya ingin membeli buku baru untuk dibaca. Saya suka membaca buku karena buku dapat memberikan saya banyak pengetahuan dan wawasan baru. Saya juga suka membaca buku karena buku dapat membuat saya merasa rileks dan tenang.\n",
            "\n",
            "Setelah membeli pakaian saya pergi ke toko buku. Saya ingin membeli buku baru untuk dibaca. Saya suka membaca buku karena buku dapat memberikan saya banyak pengetahuan dan wawasan baru. Saya juga suka membaca buku karena buku dapat membuat saya merasa rileks dan tenang.\n",
            "\n",
            "########### temperature 0.2\n",
            "Setelah membeli pakaian saya pergi ke toko buku. Saya ingin membeli buku baru untuk dibaca. Saya suka membaca buku karena buku dapat memberikan saya banyak pengetahuan dan wawasan baru. Saya juga suka membaca buku karena buku dapat membuat saya merasa rileks dan terhibur.\n",
            "\n",
            "Setelah membeli pakaian saya pergi ke toko buku. Saya ingin membeli buku baru untuk dibaca. Saya suka membaca buku karena buku dapat memberikan saya banyak informasi dan pengetahuan. Saya juga suka membaca buku karena buku dapat menghibur saya.\n",
            "\n",
            "########### temperature 0.4\n",
            "Setelah membeli pakaian, saya pergi ke supermarket untuk membeli makanan. Saya membeli beberapa buah dan sayuran untuk dimasak di rumah. Saya juga membeli beberapa bahan makanan untuk membuat kue. Setelah selesai berbelanja, saya pergi ke kasir untuk membayar. Kemudian, saya pulang ke rumah.\n",
            "\n"
          ]
        },
        {
          "output_type": "error",
          "ename": "ResourceExhausted",
          "evalue": "ignored",
          "traceback": [
            "\u001b[0;31m---------------------------------------------------------------------------\u001b[0m",
            "\u001b[0;31m_InactiveRpcError\u001b[0m                         Traceback (most recent call last)",
            "\u001b[0;32m/usr/local/lib/python3.10/dist-packages/google/api_core/grpc_helpers.py\u001b[0m in \u001b[0;36merror_remapped_callable\u001b[0;34m(*args, **kwargs)\u001b[0m\n\u001b[1;32m     71\u001b[0m         \u001b[0;32mtry\u001b[0m\u001b[0;34m:\u001b[0m\u001b[0;34m\u001b[0m\u001b[0;34m\u001b[0m\u001b[0m\n\u001b[0;32m---> 72\u001b[0;31m             \u001b[0;32mreturn\u001b[0m \u001b[0mcallable_\u001b[0m\u001b[0;34m(\u001b[0m\u001b[0;34m*\u001b[0m\u001b[0margs\u001b[0m\u001b[0;34m,\u001b[0m \u001b[0;34m**\u001b[0m\u001b[0mkwargs\u001b[0m\u001b[0;34m)\u001b[0m\u001b[0;34m\u001b[0m\u001b[0;34m\u001b[0m\u001b[0m\n\u001b[0m\u001b[1;32m     73\u001b[0m         \u001b[0;32mexcept\u001b[0m \u001b[0mgrpc\u001b[0m\u001b[0;34m.\u001b[0m\u001b[0mRpcError\u001b[0m \u001b[0;32mas\u001b[0m \u001b[0mexc\u001b[0m\u001b[0;34m:\u001b[0m\u001b[0;34m\u001b[0m\u001b[0;34m\u001b[0m\u001b[0m\n",
            "\u001b[0;32m/usr/local/lib/python3.10/dist-packages/grpc/_channel.py\u001b[0m in \u001b[0;36m__call__\u001b[0;34m(self, request, timeout, metadata, credentials, wait_for_ready, compression)\u001b[0m\n\u001b[1;32m   1160\u001b[0m         )\n\u001b[0;32m-> 1161\u001b[0;31m         \u001b[0;32mreturn\u001b[0m \u001b[0m_end_unary_response_blocking\u001b[0m\u001b[0;34m(\u001b[0m\u001b[0mstate\u001b[0m\u001b[0;34m,\u001b[0m \u001b[0mcall\u001b[0m\u001b[0;34m,\u001b[0m \u001b[0;32mFalse\u001b[0m\u001b[0;34m,\u001b[0m \u001b[0;32mNone\u001b[0m\u001b[0;34m)\u001b[0m\u001b[0;34m\u001b[0m\u001b[0;34m\u001b[0m\u001b[0m\n\u001b[0m\u001b[1;32m   1162\u001b[0m \u001b[0;34m\u001b[0m\u001b[0m\n",
            "\u001b[0;32m/usr/local/lib/python3.10/dist-packages/grpc/_channel.py\u001b[0m in \u001b[0;36m_end_unary_response_blocking\u001b[0;34m(state, call, with_call, deadline)\u001b[0m\n\u001b[1;32m   1003\u001b[0m     \u001b[0;32melse\u001b[0m\u001b[0;34m:\u001b[0m\u001b[0;34m\u001b[0m\u001b[0;34m\u001b[0m\u001b[0m\n\u001b[0;32m-> 1004\u001b[0;31m         \u001b[0;32mraise\u001b[0m \u001b[0m_InactiveRpcError\u001b[0m\u001b[0;34m(\u001b[0m\u001b[0mstate\u001b[0m\u001b[0;34m)\u001b[0m  \u001b[0;31m# pytype: disable=not-instantiable\u001b[0m\u001b[0;34m\u001b[0m\u001b[0;34m\u001b[0m\u001b[0m\n\u001b[0m\u001b[1;32m   1005\u001b[0m \u001b[0;34m\u001b[0m\u001b[0m\n",
            "\u001b[0;31m_InactiveRpcError\u001b[0m: <_InactiveRpcError of RPC that terminated with:\n\tstatus = StatusCode.RESOURCE_EXHAUSTED\n\tdetails = \"Quota exceeded for aiplatform.googleapis.com/online_prediction_requests_per_base_model with base model: text-bison. Please submit a quota increase request. https://cloud.google.com/vertex-ai/docs/quotas.\"\n\tdebug_error_string = \"UNKNOWN:Error received from peer ipv4:74.125.141.95:443 {grpc_message:\"Quota exceeded for aiplatform.googleapis.com/online_prediction_requests_per_base_model with base model: text-bison. Please submit a quota increase request. https://cloud.google.com/vertex-ai/docs/quotas.\", grpc_status:8, created_time:\"2023-11-22T16:01:05.366425162+00:00\"}\"\n>",
            "\nThe above exception was the direct cause of the following exception:\n",
            "\u001b[0;31mResourceExhausted\u001b[0m                         Traceback (most recent call last)",
            "\u001b[0;32m<ipython-input-28-58738a401c28>\u001b[0m in \u001b[0;36m<cell line: 1>\u001b[0;34m()\u001b[0m\n\u001b[1;32m      2\u001b[0m   \u001b[0mprint\u001b[0m\u001b[0;34m(\u001b[0m\u001b[0;34m'########### temperature'\u001b[0m\u001b[0;34m,\u001b[0m \u001b[0mt\u001b[0m\u001b[0;34m)\u001b[0m\u001b[0;34m\u001b[0m\u001b[0;34m\u001b[0m\u001b[0m\n\u001b[1;32m      3\u001b[0m   \u001b[0;32mfor\u001b[0m \u001b[0m_\u001b[0m \u001b[0;32min\u001b[0m \u001b[0mrange\u001b[0m\u001b[0;34m(\u001b[0m\u001b[0;36m2\u001b[0m\u001b[0;34m)\u001b[0m\u001b[0;34m:\u001b[0m\u001b[0;34m\u001b[0m\u001b[0;34m\u001b[0m\u001b[0m\n\u001b[0;32m----> 4\u001b[0;31m     \u001b[0mresp\u001b[0m \u001b[0;34m=\u001b[0m \u001b[0mgen_model\u001b[0m\u001b[0;34m.\u001b[0m\u001b[0mpredict\u001b[0m\u001b[0;34m(\u001b[0m\u001b[0mprompt\u001b[0m\u001b[0;34m=\u001b[0m\u001b[0mprompt\u001b[0m\u001b[0;34m,\u001b[0m \u001b[0mtemperature\u001b[0m\u001b[0;34m=\u001b[0m\u001b[0mt\u001b[0m\u001b[0;34m)\u001b[0m\u001b[0;34m\u001b[0m\u001b[0;34m\u001b[0m\u001b[0m\n\u001b[0m\u001b[1;32m      5\u001b[0m     \u001b[0mprint\u001b[0m\u001b[0;34m(\u001b[0m\u001b[0mresp\u001b[0m\u001b[0;34m.\u001b[0m\u001b[0mtext\u001b[0m\u001b[0;34m,\u001b[0m \u001b[0mend\u001b[0m\u001b[0;34m=\u001b[0m\u001b[0;34m'\\n\\n'\u001b[0m\u001b[0;34m)\u001b[0m\u001b[0;34m\u001b[0m\u001b[0;34m\u001b[0m\u001b[0m\n\u001b[1;32m      6\u001b[0m \u001b[0;34m\u001b[0m\u001b[0m\n",
            "\u001b[0;32m/usr/local/lib/python3.10/dist-packages/vertexai/language_models/_language_models.py\u001b[0m in \u001b[0;36mpredict\u001b[0;34m(self, prompt, max_output_tokens, temperature, top_k, top_p, stop_sequences, candidate_count, grounding_source)\u001b[0m\n\u001b[1;32m   1006\u001b[0m         )\n\u001b[1;32m   1007\u001b[0m \u001b[0;34m\u001b[0m\u001b[0m\n\u001b[0;32m-> 1008\u001b[0;31m         prediction_response = self._endpoint.predict(\n\u001b[0m\u001b[1;32m   1009\u001b[0m             \u001b[0minstances\u001b[0m\u001b[0;34m=\u001b[0m\u001b[0;34m[\u001b[0m\u001b[0mprediction_request\u001b[0m\u001b[0;34m.\u001b[0m\u001b[0minstance\u001b[0m\u001b[0;34m]\u001b[0m\u001b[0;34m,\u001b[0m\u001b[0;34m\u001b[0m\u001b[0;34m\u001b[0m\u001b[0m\n\u001b[1;32m   1010\u001b[0m             \u001b[0mparameters\u001b[0m\u001b[0;34m=\u001b[0m\u001b[0mprediction_request\u001b[0m\u001b[0;34m.\u001b[0m\u001b[0mparameters\u001b[0m\u001b[0;34m,\u001b[0m\u001b[0;34m\u001b[0m\u001b[0;34m\u001b[0m\u001b[0m\n",
            "\u001b[0;32m/usr/local/lib/python3.10/dist-packages/google/cloud/aiplatform/models.py\u001b[0m in \u001b[0;36mpredict\u001b[0;34m(self, instances, parameters, timeout, use_raw_predict)\u001b[0m\n\u001b[1;32m   1561\u001b[0m             )\n\u001b[1;32m   1562\u001b[0m         \u001b[0;32melse\u001b[0m\u001b[0;34m:\u001b[0m\u001b[0;34m\u001b[0m\u001b[0;34m\u001b[0m\u001b[0m\n\u001b[0;32m-> 1563\u001b[0;31m             prediction_response = self._prediction_client.predict(\n\u001b[0m\u001b[1;32m   1564\u001b[0m                 \u001b[0mendpoint\u001b[0m\u001b[0;34m=\u001b[0m\u001b[0mself\u001b[0m\u001b[0;34m.\u001b[0m\u001b[0m_gca_resource\u001b[0m\u001b[0;34m.\u001b[0m\u001b[0mname\u001b[0m\u001b[0;34m,\u001b[0m\u001b[0;34m\u001b[0m\u001b[0;34m\u001b[0m\u001b[0m\n\u001b[1;32m   1565\u001b[0m                 \u001b[0minstances\u001b[0m\u001b[0;34m=\u001b[0m\u001b[0minstances\u001b[0m\u001b[0;34m,\u001b[0m\u001b[0;34m\u001b[0m\u001b[0;34m\u001b[0m\u001b[0m\n",
            "\u001b[0;32m/usr/local/lib/python3.10/dist-packages/google/cloud/aiplatform_v1/services/prediction_service/client.py\u001b[0m in \u001b[0;36mpredict\u001b[0;34m(self, request, endpoint, instances, parameters, retry, timeout, metadata)\u001b[0m\n\u001b[1;32m    602\u001b[0m \u001b[0;34m\u001b[0m\u001b[0m\n\u001b[1;32m    603\u001b[0m         \u001b[0;31m# Send the request.\u001b[0m\u001b[0;34m\u001b[0m\u001b[0;34m\u001b[0m\u001b[0m\n\u001b[0;32m--> 604\u001b[0;31m         response = rpc(\n\u001b[0m\u001b[1;32m    605\u001b[0m             \u001b[0mrequest\u001b[0m\u001b[0;34m,\u001b[0m\u001b[0;34m\u001b[0m\u001b[0;34m\u001b[0m\u001b[0m\n\u001b[1;32m    606\u001b[0m             \u001b[0mretry\u001b[0m\u001b[0;34m=\u001b[0m\u001b[0mretry\u001b[0m\u001b[0;34m,\u001b[0m\u001b[0;34m\u001b[0m\u001b[0;34m\u001b[0m\u001b[0m\n",
            "\u001b[0;32m/usr/local/lib/python3.10/dist-packages/google/api_core/gapic_v1/method.py\u001b[0m in \u001b[0;36m__call__\u001b[0;34m(self, timeout, retry, *args, **kwargs)\u001b[0m\n\u001b[1;32m    111\u001b[0m             \u001b[0mkwargs\u001b[0m\u001b[0;34m[\u001b[0m\u001b[0;34m\"metadata\"\u001b[0m\u001b[0;34m]\u001b[0m \u001b[0;34m=\u001b[0m \u001b[0mmetadata\u001b[0m\u001b[0;34m\u001b[0m\u001b[0;34m\u001b[0m\u001b[0m\n\u001b[1;32m    112\u001b[0m \u001b[0;34m\u001b[0m\u001b[0m\n\u001b[0;32m--> 113\u001b[0;31m         \u001b[0;32mreturn\u001b[0m \u001b[0mwrapped_func\u001b[0m\u001b[0;34m(\u001b[0m\u001b[0;34m*\u001b[0m\u001b[0margs\u001b[0m\u001b[0;34m,\u001b[0m \u001b[0;34m**\u001b[0m\u001b[0mkwargs\u001b[0m\u001b[0;34m)\u001b[0m\u001b[0;34m\u001b[0m\u001b[0;34m\u001b[0m\u001b[0m\n\u001b[0m\u001b[1;32m    114\u001b[0m \u001b[0;34m\u001b[0m\u001b[0m\n\u001b[1;32m    115\u001b[0m \u001b[0;34m\u001b[0m\u001b[0m\n",
            "\u001b[0;32m/usr/local/lib/python3.10/dist-packages/google/api_core/grpc_helpers.py\u001b[0m in \u001b[0;36merror_remapped_callable\u001b[0;34m(*args, **kwargs)\u001b[0m\n\u001b[1;32m     72\u001b[0m             \u001b[0;32mreturn\u001b[0m \u001b[0mcallable_\u001b[0m\u001b[0;34m(\u001b[0m\u001b[0;34m*\u001b[0m\u001b[0margs\u001b[0m\u001b[0;34m,\u001b[0m \u001b[0;34m**\u001b[0m\u001b[0mkwargs\u001b[0m\u001b[0;34m)\u001b[0m\u001b[0;34m\u001b[0m\u001b[0;34m\u001b[0m\u001b[0m\n\u001b[1;32m     73\u001b[0m         \u001b[0;32mexcept\u001b[0m \u001b[0mgrpc\u001b[0m\u001b[0;34m.\u001b[0m\u001b[0mRpcError\u001b[0m \u001b[0;32mas\u001b[0m \u001b[0mexc\u001b[0m\u001b[0;34m:\u001b[0m\u001b[0;34m\u001b[0m\u001b[0;34m\u001b[0m\u001b[0m\n\u001b[0;32m---> 74\u001b[0;31m             \u001b[0;32mraise\u001b[0m \u001b[0mexceptions\u001b[0m\u001b[0;34m.\u001b[0m\u001b[0mfrom_grpc_error\u001b[0m\u001b[0;34m(\u001b[0m\u001b[0mexc\u001b[0m\u001b[0;34m)\u001b[0m \u001b[0;32mfrom\u001b[0m \u001b[0mexc\u001b[0m\u001b[0;34m\u001b[0m\u001b[0;34m\u001b[0m\u001b[0m\n\u001b[0m\u001b[1;32m     75\u001b[0m \u001b[0;34m\u001b[0m\u001b[0m\n\u001b[1;32m     76\u001b[0m     \u001b[0;32mreturn\u001b[0m \u001b[0merror_remapped_callable\u001b[0m\u001b[0;34m\u001b[0m\u001b[0;34m\u001b[0m\u001b[0m\n",
            "\u001b[0;31mResourceExhausted\u001b[0m: 429 Quota exceeded for aiplatform.googleapis.com/online_prediction_requests_per_base_model with base model: text-bison. Please submit a quota increase request. https://cloud.google.com/vertex-ai/docs/quotas."
          ]
        }
      ]
    },
    {
      "cell_type": "code",
      "source": [
        "for t in [0, .1, .2, .4, .5, .8, 1]:\n",
        "  print('########### temperature', t)\n",
        "  for _ in range(2):\n",
        "    resp = gen_model.predict(prompt=prompt, temperature=t)\n",
        "    print(resp.text, end='\\n\\n')\n",
        "\n",
        "  sleep(30)"
      ],
      "metadata": {
        "colab": {
          "base_uri": "https://localhost:8080/"
        },
        "id": "7ioNe5G5w2P_",
        "outputId": "8cc8778b-2c5f-47e5-cce7-26bea3c1273e"
      },
      "execution_count": 32,
      "outputs": [
        {
          "output_type": "stream",
          "name": "stdout",
          "text": [
            "########### temperature 0\n",
            "Setelah membeli pakaian, saya pergi ke toko buku. Saya ingin membeli buku baru untuk dibaca. Saya suka membaca buku karena buku dapat memberikan saya pengetahuan dan hiburan. Saya juga suka membaca buku karena buku dapat membantu saya untuk mengembangkan imajinasi saya. Saya suka membaca buku karena buku dapat membantu saya untuk belajar tentang berbagai hal. Saya suka membaca buku karena buku dapat membantu saya untuk menjadi orang yang lebih baik.\n",
            "\n",
            "Setelah membeli pakaian, saya pergi ke toko buku. Saya ingin membeli buku baru untuk dibaca. Saya suka membaca buku karena buku dapat memberikan saya pengetahuan dan hiburan. Saya juga suka membaca buku karena buku dapat membantu saya untuk mengembangkan imajinasi saya. Saya suka membaca buku karena buku dapat membantu saya untuk belajar tentang berbagai hal. Saya suka membaca buku karena buku dapat membantu saya untuk menjadi orang yang lebih baik.\n",
            "\n",
            "########### temperature 0.1\n",
            "Setelah membeli pakaian, saya pergi ke toko buku. Saya ingin membeli buku baru untuk dibaca. Saya suka membaca buku karena buku dapat memberikan saya pengetahuan dan hiburan. Saya juga suka membaca buku karena buku dapat membuat saya berpikir dan berimajinasi. Saya suka membaca buku karena buku dapat membuat saya merasa lebih baik.\n",
            "\n",
            "Setelah membeli pakaian saya pergi ke toko buku. Saya ingin membeli buku untuk dibaca di waktu senggang. Saya juga ingin membeli buku untuk anak-anak saya. Saya ingin mereka membaca buku yang bagus dan mendidik. Saya juga ingin mereka membaca buku yang menyenangkan. Saya ingin mereka suka membaca.\n",
            "\n",
            "########### temperature 0.2\n",
            "Setelah membeli pakaian, saya pergi ke toko buku. Saya ingin membeli buku baru untuk dibaca. Saya suka membaca buku karena buku dapat memberikan saya banyak informasi dan pengetahuan. Saya juga suka membaca buku karena buku dapat membuat saya merasa rileks dan tenang.\n",
            "\n",
            "Setelah membeli pakaian, saya pergi ke toko buku. Saya ingin membeli beberapa buku untuk dibaca. Saya suka membaca buku karena bisa menambah pengetahuan saya. Saya juga suka membaca buku karena bisa membuat saya lebih rileks. Setelah membeli buku, saya pulang ke rumah. Saya membaca buku-buku yang saya beli sambil minum teh. Saya merasa senang karena bisa membeli buku-buku yang saya suka.\n",
            "\n",
            "########### temperature 0.4\n",
            "Setelah membeli pakaian saya pergi ke mall. Mall adalah tempat yang tepat untuk membeli pakaian karena di sana terdapat banyak toko yang menjual berbagai macam pakaian. Selain itu, di mall juga terdapat tempat makan sehingga kita bisa makan setelah selesai berbelanja.\n",
            "\n",
            "Setelah membeli pakaian, saya pergi ke toko buku.\n",
            "\n",
            "Pakaian dapat dibeli di toko pakaian. Buku dapat dibeli di toko buku. Jadi, setelah membeli pakaian, saya pergi ke toko buku.\n",
            "\n",
            "########### temperature 0.5\n",
            "Setelah membeli pakaian saya pergi ke toko buku.\n",
            "\n",
            "Pakaian adalah salah satu kebutuhan manusia. Setelah membeli pakaian, biasanya orang akan pergi ke toko buku untuk membeli buku. Toko buku adalah tempat untuk membeli buku. Jadi, setelah membeli pakaian, biasanya orang akan pergi ke toko buku.\n",
            "\n",
            "Setelah membeli pakaian saya pergi ke toko sepatu.\n",
            "\n",
            "Setelah membeli pakaian saya pergi ke suatu tempat. Tempat itu bisa jadi toko sepatu, toko buku, atau tempat lain. Untuk melanjutkan teks, kita perlu tahu tujuan saya setelah membeli pakaian. Di sini saya ingin membeli sepatu, jadi saya pergi ke toko sepatu.\n",
            "\n",
            "########### temperature 0.8\n",
            "Setelah membeli pakaian, saya pergi ke mall.\n",
            "\n",
            "Mal merupakan bangunan kompleks yang memiliki banyak toko yang menjual berbagai barang, seperti pakaian, sepatu, makanan, dan lain sebagainya. Orang-orang biasanya pergi ke mall untuk membeli barang-barang yang dibutuhkan, seperti pakaian, sepatu, atau makanan. Mall juga merupakan tempat yang menyenangkan untuk menghabiskan waktu bersama keluarga atau teman.\n",
            "\n",
            "Saya telah membeli pakaian, dan ingin mencobanya. Jadi, saya harus pergi ke tempat yang dapat saya coba pakaian. Saya akan pergi ke ruang ganti.\n",
            "\n",
            "########### temperature 1\n",
            "saya pergi ke supermarket setelah membeli pakaian.\n",
            "\n",
            "Supermarket adalah sebuah tempat di mana orang dapat membeli makanan, minuman, dan berbagai keperluan sehari-hari. Supermarket biasanya dikelola oleh satu perusahaan dan menawarkan berbagai macam barang, sehingga konsumen dapat membeli berbagai macam barang dalam satu tempat. Supermarket juga menyediakan berbagai fasilitas seperti tempat duduk, tempat parkir, dan area bermain untuk anak-anak. Supermaket biasanya juga menyediakan tempat makan bagi para pelanggan.\n",
            "\n",
            "setelah membeli pakaian saya pergi ke supermarket.\n",
            "\n",
            "Pakaian adalah jenis barang yang kita gunakan sehari-hari. Untuk mendapatkan pakaian, biasanya kita harus pergi ke toko atau supermarket. Setelah kita membeli pakaian di supermarket, biasanya kita langsung membawanya pulang.\n",
            "\n"
          ]
        }
      ]
    },
    {
      "cell_type": "code",
      "source": [],
      "metadata": {
        "id": "-aV-l8qLxPnm"
      },
      "execution_count": null,
      "outputs": []
    }
  ]
}